{
 "cells": [
  {
   "cell_type": "code",
   "execution_count": 22,
   "metadata": {},
   "outputs": [],
   "source": [
    "import numpy as np\n",
    "import cv2\n"
   ]
  },
  {
   "cell_type": "markdown",
   "metadata": {},
   "source": [
    "# Count Yokoi Connectivity Number"
   ]
  },
  {
   "cell_type": "markdown",
   "metadata": {},
   "source": [
    "## primitive function $h$\n",
    "\n",
    "- on downsampled lena\n",
    "- use 4-connectivity\n",
    "\n",
    "> Ch6 ppt p.47-48, textbook p.272-276\n",
    "\n",
    "We define the function h as stated in the lecture ppt, which is:\n",
    "\n",
    "\\begin{equation*}\n",
    "h(b, c, d, e) = \n",
    "\\begin{cases}\n",
    "q & \\text{if } b = c \\land (d \\ne b \\lor e \\ne b) \\\\\n",
    "r & \\text{if } b = c \\land (d = b \\land e = b) \\\\\n",
    "s & \\text{if } b \\neq c \\\\\n",
    "\\end{cases}\n",
    "\\end{equation*}\n",
    "\n",
    "Which means if we have:\n",
    "\n",
    "\\begin{equation*}\n",
    "\\begin{bmatrix}\n",
    "e & d \\\\\n",
    "b & c \n",
    "\\end{bmatrix}\n",
    "\\end{equation*}\n",
    "\n",
    "Then for example, we output `q` if it looks like:\n",
    "\n",
    "\\begin{equation*}\n",
    "\\begin{bmatrix}\n",
    "0 & 1 \\\\\n",
    "1 & 1 \n",
    "\\end{bmatrix}\n",
    "\\begin{bmatrix}\n",
    "1 & 0 \\\\\n",
    "1 & 1 \n",
    "\\end{bmatrix}\n",
    "\\begin{bmatrix}\n",
    "0 & 0 \\\\\n",
    "1 & 1 \n",
    "\\end{bmatrix}\n",
    "\\end{equation*}\n",
    "\n",
    "we output `r` if it looks like:\n",
    "\n",
    "\\begin{equation*}\n",
    "\\begin{bmatrix}\n",
    "1 & 1 \\\\\n",
    "1 & 1 \n",
    "\\end{bmatrix}\n",
    "\\end{equation*}\n",
    "\n",
    "we output `s` if it looks like:\n",
    "\n",
    "\\begin{equation*}\n",
    "\\begin{bmatrix}\n",
    "0 & 1 \\\\\n",
    "1 & 0 \n",
    "\\end{bmatrix}\n",
    "\\begin{bmatrix}\n",
    "1 & 0 \\\\\n",
    "0 & 1 \n",
    "\\end{bmatrix}\n",
    "\\begin{bmatrix}\n",
    "1 & 0 \\\\\n",
    "1 & 0 \n",
    "\\end{bmatrix}\n",
    "\\end{equation*}\n",
    "\n"
   ]
  },
  {
   "cell_type": "code",
   "execution_count": 23,
   "metadata": {},
   "outputs": [],
   "source": [
    "def h(b, c, d, e):\n",
    "    if b == c and (d != b or e != b):\n",
    "        return 'q'\n",
    "    elif b == c and (d == b and e == b):\n",
    "        return 'r'\n",
    "    else:\n",
    "        return 's'\n"
   ]
  },
  {
   "cell_type": "markdown",
   "metadata": {},
   "source": [
    "## primitive function $f$\n",
    "\n",
    "$f$ counts the number of arguments having a paricular value.\n",
    "\n",
    "The symbol (label) $5$ stands for interior pixels, so we output $5$ if all the arguments are $r$.\n",
    "\n",
    "For other cases, the connectivity number is <ins>the number of times a 4-connected neighbor has the same value but the corresponding 3-pixel corner neighborhood does not</ins>, if we represent this in a formula, it would be:\n",
    "\n",
    "\\begin{equation*}\n",
    "f(a_1, a_2, a_3, a_4) = \\#\\{ a_k | a_k = q \\}\n",
    "\\end{equation*}\n"
   ]
  },
  {
   "cell_type": "code",
   "execution_count": 24,
   "metadata": {},
   "outputs": [],
   "source": [
    "def f(a_1, a_2, a_3, a_4):\n",
    "    if a_1 == a_2 == a_3 == a_4 == 'r':\n",
    "        return 5\n",
    "    else:\n",
    "        connectivity_number = 0\n",
    "        for a_i in [a_1, a_2, a_3, a_4]: \n",
    "            if a_i == 'q':\n",
    "                connectivity_number += 1\n",
    "        return connectivity_number\n"
   ]
  },
  {
   "cell_type": "code",
   "execution_count": 25,
   "metadata": {},
   "outputs": [
    {
     "name": "stderr",
     "output_type": "stream",
     "text": [
      "[ WARN:0@43.773] global loadsave.cpp:248 findDecoder imread_('lena.bmp'): can't open/read file: check file path/integrity\n"
     ]
    }
   ],
   "source": [
    "img = cv2.imread('lena.bmp', 0)"
   ]
  },
  {
   "cell_type": "markdown",
   "metadata": {},
   "source": [
    "## Downsampling lena from 512x512 to 64x64\n",
    "\n",
    "1. binarize lena image as HW2\n",
    "2. use 8x8 blocks as a unit\n",
    "3. take top-most left pixel as downsampled data\n",
    "\n",
    "Note: Result is a 64x64 matrix"
   ]
  },
  {
   "cell_type": "markdown",
   "metadata": {},
   "source": [
    "### Step 1: Binarize the image"
   ]
  },
  {
   "cell_type": "code",
   "execution_count": 26,
   "metadata": {},
   "outputs": [
    {
     "ename": "AttributeError",
     "evalue": "'NoneType' object has no attribute 'shape'",
     "output_type": "error",
     "traceback": [
      "\u001b[0;31m---------------------------------------------------------------------------\u001b[0m",
      "\u001b[0;31mAttributeError\u001b[0m                            Traceback (most recent call last)",
      "Cell \u001b[0;32mIn[26], line 1\u001b[0m\n\u001b[0;32m----> 1\u001b[0m binarized_img \u001b[38;5;241m=\u001b[39m np\u001b[38;5;241m.\u001b[39mzeros(\u001b[43mimg\u001b[49m\u001b[38;5;241;43m.\u001b[39;49m\u001b[43mshape\u001b[49m, np\u001b[38;5;241m.\u001b[39mint8)\n\u001b[1;32m      2\u001b[0m \u001b[38;5;28;01mfor\u001b[39;00m i \u001b[38;5;129;01min\u001b[39;00m \u001b[38;5;28mrange\u001b[39m(img\u001b[38;5;241m.\u001b[39mshape[\u001b[38;5;241m0\u001b[39m]):\n\u001b[1;32m      3\u001b[0m     \u001b[38;5;28;01mfor\u001b[39;00m j \u001b[38;5;129;01min\u001b[39;00m \u001b[38;5;28mrange\u001b[39m(img\u001b[38;5;241m.\u001b[39mshape[\u001b[38;5;241m1\u001b[39m]):\n",
      "\u001b[0;31mAttributeError\u001b[0m: 'NoneType' object has no attribute 'shape'"
     ]
    }
   ],
   "source": [
    "binarized_img = np.zeros(img.shape, np.int8)\n",
    "for i in range(img.shape[0]):\n",
    "    for j in range(img.shape[1]):\n",
    "        if img[i][j] >= 128:\n",
    "            binarized_img[i][j] = 1"
   ]
  },
  {
   "cell_type": "markdown",
   "metadata": {},
   "source": [
    "### Step 2, 3: Downsample the image\n",
    "\n",
    "First we initialize `downsampled_img` as a 64x64 matrix, with all elements being 0.\n",
    "\n",
    "Then we iterate through each 8x8 block in the binarized image, and take the top-most left pixel as the downsampled data."
   ]
  },
  {
   "cell_type": "code",
   "execution_count": 30,
   "metadata": {},
   "outputs": [],
   "source": [
    "downsampled_img  = np.zeros((64, 64), np.int8)\n",
    "for i in range(0, 64):\n",
    "    for j in range(0, 64):\n",
    "        downsampled_img[i][j] = binarized_img[i*8][j*8]"
   ]
  },
  {
   "cell_type": "markdown",
   "metadata": {},
   "source": [
    "## Calculate Yokoi Connectivity Number\n",
    "\n",
    "To calculate the Yokoi Connectivity number, we first iterate through each pixel in the downsampled image.\n",
    "\n",
    "Then for each foreground pixel, we look at its 8 neighbors.\n",
    "\n",
    "Here we have to define different cases, since for pixels on the boundary, some of their neighbors do not exist.\n",
    "We classify the situation into 9 cases:\n",
    "\n",
    "- top\n",
    "\n",
    "    1. top-left\n",
    "    2. top-right\n",
    "    3. top\n",
    "- bottom\n",
    "\n",
    "    4. bottom-left\n",
    "    5. bottom-right\n",
    "    6. bottom\n",
    "7. left\n",
    "8. right\n",
    "9. center\n",
    "\n",
    "The indexing for pixels in a 3x3 neighborhood is:\n",
    "\n",
    "\\begin{equation*}\n",
    "\\begin{bmatrix}\n",
    "x_7 & x_2 & x_6\\\\\n",
    "x_3 & x_0 & x_1 \\\\\n",
    "x_8 & x_4 & x_5\n",
    "\\end{bmatrix}\n",
    "\\end{equation*}\n",
    "\n",
    "After we got the value of each pixel in the neighborhood, we can calculate $a_1, a_2, a_3, a_4$ by the primitive function $h$, these values are calculated by definition as follows:\n",
    "\n",
    "\\begin{equation*}\n",
    "\\begin{split}\n",
    "a_1 = h(x_0, x_1, x_6, x_2) \\\\\n",
    "a_2 = h(x_0, x_2, x_7, x_3) \\\\\n",
    "a_3 = h(x_0, x_3, x_8, x_4) \\\\\n",
    "a_4 = h(x_0, x_4, x_5, x_1) \\\\\n",
    "\\end{split}\n",
    "\\end{equation*}\n",
    "\n",
    "Finally, we can calculate the connectivity number $y$ by the primitive function $f$, which is defined as:\n",
    "\n",
    "\\begin{equation*}\n",
    "y = f(a_1, a_2, a_3, a_4)\n",
    "\\end{equation*}\n",
    "\n",
    "After all the calculations, we print out the connectivity number $y$ for each foreground pixel, and print a blank space if the pixel is a background pixel. \n",
    "\n",
    "The printing part is done by concatenating the connectivity number $y$ for each pixel in a line, and print the line after each row is iterated.\n"
   ]
  },
  {
   "cell_type": "code",
   "execution_count": 27,
   "metadata": {},
   "outputs": [
    {
     "ename": "NameError",
     "evalue": "name 'downsampled_img' is not defined",
     "output_type": "error",
     "traceback": [
      "\u001b[0;31m---------------------------------------------------------------------------\u001b[0m",
      "\u001b[0;31mNameError\u001b[0m                                 Traceback (most recent call last)",
      "Cell \u001b[0;32mIn[27], line 1\u001b[0m\n\u001b[0;32m----> 1\u001b[0m \u001b[38;5;28;01mfor\u001b[39;00m i \u001b[38;5;129;01min\u001b[39;00m \u001b[38;5;28mrange\u001b[39m(\u001b[43mdownsampled_img\u001b[49m\u001b[38;5;241m.\u001b[39mshape[\u001b[38;5;241m0\u001b[39m]):\n\u001b[1;32m      2\u001b[0m     line \u001b[38;5;241m=\u001b[39m \u001b[38;5;124m'\u001b[39m\u001b[38;5;124m'\u001b[39m\n\u001b[1;32m      3\u001b[0m     \u001b[38;5;28;01mfor\u001b[39;00m j \u001b[38;5;129;01min\u001b[39;00m \u001b[38;5;28mrange\u001b[39m(downsampled_img\u001b[38;5;241m.\u001b[39mshape[\u001b[38;5;241m1\u001b[39m]):\n",
      "\u001b[0;31mNameError\u001b[0m: name 'downsampled_img' is not defined"
     ]
    }
   ],
   "source": [
    "for i in range(downsampled_img.shape[0]):\n",
    "    line = ''\n",
    "    for j in range(downsampled_img.shape[1]):\n",
    "        if downsampled_img[i][j] == 1:\n",
    "            # top\n",
    "            if i == 0:\n",
    "                # case 1: top-left\n",
    "                if j == 0:  \n",
    "                    x_7, x_2, x_6 = 0, 0, 0\n",
    "                    x_3, x_0, x_1 = 0, downsampled_img[i][j], downsampled_img[i][j+1]\n",
    "                    x_8, x_4, x_5 = 0, downsampled_img[i+1][j], downsampled_img[i+1][j+1]\n",
    "\n",
    "                # case 2: top-right\n",
    "                elif j == downsampled_img.shape[1] - 1:\n",
    "                    x_7, x_2, x_6 = 0, 0, 0\n",
    "                    x_3, x_0, x_1 = downsampled_img[i][j-1], downsampled_img[i][j], 0\n",
    "                    x_8, x_4, x_5 = downsampled_img[i+1][j-1], downsampled_img[i+1][j], 0\n",
    "                \n",
    "                # case 3: top\n",
    "                else:\n",
    "                    x_7, x_2, x_6 = 0, 0, 0\n",
    "                    x_3, x_0, x_1 = downsampled_img[i][j-1], downsampled_img[i][j], downsampled_img[i][j+1]\n",
    "                    x_8, x_4, x_5 = downsampled_img[i+1][j-1], downsampled_img[i+1][j], downsampled_img[i+1][j+1]\n",
    "\n",
    "            # bottom    \n",
    "            if i == downsampled_img.shape[0] - 1:\n",
    "\n",
    "                # case 4: bottom-left\n",
    "                if j == 0:\n",
    "                    x_7, x_2, x_6 = 0, downsampled_img[i-1][j], downsampled_img[i-1][j+1]\n",
    "                    x_3, x_0, x_1 = 0, downsampled_img[i][j], downsampled_img[i][j+1]\n",
    "                    x_8, x_4, x_5 = 0, 0, 0\n",
    "\n",
    "                # case 5: bottom-right\n",
    "                elif j == downsampled_img.shape[1] - 1:\n",
    "                    x_7, x_2, x_6 = downsampled_img[i-1][j-1], downsampled_img[i-1][j], 0\n",
    "                    x_3, x_0, x_1 = downsampled_img[i][j-1], downsampled_img[i][j], 0\n",
    "                    x_8, x_4, x_5 = 0, 0, 0\n",
    "\n",
    "                # case 6: bottom\n",
    "                else:\n",
    "                    x_7, x_2, x_6 = downsampled_img[i-1][j-1], downsampled_img[i-1][j], downsampled_img[i-1][j+1]\n",
    "                    x_3, x_0, x_1 = downsampled_img[i][j-1], downsampled_img[i][j], downsampled_img[i][j+1]\n",
    "                    x_8, x_4, x_5 = 0, 0, 0\n",
    "            \n",
    "            # pixels that does not belongs to top or bottom\n",
    "            else:\n",
    "                # case 7: left\n",
    "                if j == 0:\n",
    "                    x_7, x_2, x_6 = 0, downsampled_img[i-1][j], downsampled_img[i-1][j+1]\n",
    "                    x_3, x_0, x_1 = 0, downsampled_img[i][j], downsampled_img[i][j+1]\n",
    "                    x_8, x_4, x_5 = 0, downsampled_img[i+1][j], downsampled_img[i+1][j+1]\n",
    "\n",
    "                # case 8: right\n",
    "                elif j == downsampled_img.shape[1] - 1:\n",
    "                    x_7, x_2, x_6 = downsampled_img[i-1][j-1], downsampled_img[i-1][j], 0\n",
    "                    x_3, x_0, x_1 = downsampled_img[i][j-1], downsampled_img[i][j], 0\n",
    "                    x_8, x_4, x_5 = downsampled_img[i+1][j-1], downsampled_img[i+1][j], 0\n",
    "\n",
    "                # case 9: center\n",
    "                else:\n",
    "                    x_7, x_2, x_6 = downsampled_img[i-1][j-1], downsampled_img[i-1][j], downsampled_img[i-1][j+1]\n",
    "                    x_3, x_0, x_1 = downsampled_img[i][j-1], downsampled_img[i][j], downsampled_img[i][j+1]\n",
    "                    x_8, x_4, x_5 = downsampled_img[i+1][j-1], downsampled_img[i+1][j], downsampled_img[i+1][j+1]\n",
    "\n",
    "            a_1 = h(x_0, x_1, x_6, x_2)\n",
    "            a_2 = h(x_0, x_2, x_7, x_3)\n",
    "            a_3 = h(x_0, x_3, x_8, x_4)\n",
    "            a_4 = h(x_0, x_4, x_5, x_1)\n",
    "            connectivity_number = f(a_1, a_2, a_3, a_4)\n",
    "            line += str(connectivity_number)\n",
    "        else:\n",
    "            line += ' '\n",
    "    print(line)"
   ]
  }
 ],
 "metadata": {
  "kernelspec": {
   "display_name": "base",
   "language": "python",
   "name": "python3"
  },
  "language_info": {
   "codemirror_mode": {
    "name": "ipython",
    "version": 3
   },
   "file_extension": ".py",
   "mimetype": "text/x-python",
   "name": "python",
   "nbconvert_exporter": "python",
   "pygments_lexer": "ipython3",
   "version": "3.9.6"
  }
 },
 "nbformat": 4,
 "nbformat_minor": 2
}
