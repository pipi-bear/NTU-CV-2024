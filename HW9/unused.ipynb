{
 "cells": [
  {
   "cell_type": "markdown",
   "metadata": {},
   "source": [
    "# border extension function\n",
    "\n",
    "For lines 3-7, we copy the original border pixels to the extended image's border. (except the 4 corners).\n",
    "\n",
    "The indexing:\n",
    "\n",
    "- In the extended image:\n",
    "`[0, 1:-1]` means row 0, column from 1 to -1 \n",
    "$\\rightarrow$ Which meimgns thimgt when dealing with the extended top row, we are excluding the first and last column (i.e. the topmost left and topmost right pixels)\n",
    "- In the original image:\n",
    "`[0, :]` means row 0, all columns\n",
    "\n",
    "The rest are the same.\n",
    "\n",
    "For line 8-11, we copy the original image's 4 corners to the extended image's 4 corners.\n",
    "\n",
    "For line 13, we deal with the rest of the extended image (which are the original image's inner pixels.)"
   ]
  },
  {
   "cell_type": "code",
   "execution_count": null,
   "metadata": {},
   "outputs": [],
   "source": [
    "def extend_border(img):\n",
    "    extended_image = np.zeros((img.shape[0] + 2, img.shape[1] + 2), np.int)\n",
    "    extended_image[0, 1:-1] = img[0, :]    # first row\n",
    "    extended_image[-1, 1:-1] = img[-1, :]  # last row\n",
    "    extended_image[1:-1, 0] = img[:, 0]    # first column\n",
    "    extended_image[1:-1, -1] = img[:, -1]  # last column\n",
    "    \n",
    "    extended_image[0, 0] = img[0, 0]       # top-left element\n",
    "    extended_image[0, -1] = img[0, -1]     # top-right element\n",
    "    extended_image[-1, 0] = img[-1, 0]     # bottom-left element\n",
    "    extended_image[-1, -1] = img[-1, -1]   # bottom-right element\n",
    "    \n",
    "    extended_image[1:-1, 1:-1] = img[:, :] # rest\n",
    "    return extended_image\n"
   ]
  }
 ],
 "metadata": {
  "language_info": {
   "name": "python"
  }
 },
 "nbformat": 4,
 "nbformat_minor": 2
}
