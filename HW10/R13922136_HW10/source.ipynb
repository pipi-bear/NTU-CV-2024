{
 "cells": [
  {
   "cell_type": "code",
   "execution_count": 57,
   "metadata": {},
   "outputs": [],
   "source": [
    "import cv2\n",
    "import numpy as np\n"
   ]
  },
  {
   "cell_type": "code",
   "execution_count": 58,
   "metadata": {},
   "outputs": [],
   "source": [
    "original_lena = cv2.imread('lena.bmp', 0)"
   ]
  },
  {
   "cell_type": "markdown",
   "metadata": {},
   "source": [
    "# Convolution function\n",
    "\n",
    "This function is the same as the previous homework 9."
   ]
  },
  {
   "cell_type": "code",
   "execution_count": 59,
   "metadata": {},
   "outputs": [],
   "source": [
    "def convolution(neighborhood, convolution_mask):\n",
    "    value = 0\n",
    "    for i in range(neighborhood.shape[0]):\n",
    "        for j in range(neighborhood.shape[1]):\n",
    "            value += (neighborhood[i, j] * convolution_mask[convolution_mask.shape[0] - i - 1, convolution_mask.shape[1] - j - 1])\n",
    "    return value"
   ]
  },
  {
   "cell_type": "markdown",
   "metadata": {},
   "source": [
    "# Convolution applied to the whole image"
   ]
  },
  {
   "cell_type": "code",
   "execution_count": 60,
   "metadata": {},
   "outputs": [],
   "source": [
    "def convolution_whole_image(img, convolution_mask):\n",
    "    convolution_result = np.zeros((img.shape[0] - convolution_mask.shape[0] + 1, img.shape[1] - convolution_mask.shape[1] + 1))\n",
    "    for i in range(convolution_result.shape[0]):\n",
    "        for j in range(convolution_result.shape[1]):\n",
    "            convolution_result[i, j] = convolution(img[i:i+convolution_mask.shape[0], j:j+convolution_mask.shape[1]], convolution_mask)\n",
    "    return convolution_result"
   ]
  },
  {
   "cell_type": "markdown",
   "metadata": {},
   "source": [
    "# Convolution result to Laplacian output\n",
    "\n",
    "This function converts the convolution result into a Laplacian output array.\n",
    "The definition is as in the ppt, for example:\n",
    "\n",
    "Input pixel gradient magnitude >= threshold (15) → Laplacian output pixel t = 1  \n",
    "Input pixel gradient magnitude <= -threshold (15) → Laplacian output pixel t = -1  \n",
    "Else → Laplacian output pixel t = 0  "
   ]
  },
  {
   "cell_type": "code",
   "execution_count": 61,
   "metadata": {},
   "outputs": [],
   "source": [
    "def convolution_result_to_Laplacian_output(convolution_result, threshold):\n",
    "    laplacian_output = np.zeros(convolution_result.shape)\n",
    "    for i in range(convolution_result.shape[0]):\n",
    "        for j in range(convolution_result.shape[1]):\n",
    "            if convolution_result[i,j] > 0 and convolution_result[i,j] >= threshold:\n",
    "                laplacian_output[i,j] = 1\n",
    "            elif convolution_result[i,j] < 0 and convolution_result[i,j] <= -threshold:\n",
    "                laplacian_output[i,j] = -1\n",
    "            else:\n",
    "                laplacian_output[i,j] = 0\n",
    "    return laplacian_output"
   ]
  },
  {
   "cell_type": "markdown",
   "metadata": {},
   "source": [
    "# Apply zero-crossing on Laplacian output\n",
    "\n",
    "If the Laplacian output pixel is:\n",
    "1. $t = 1$, and one of its 8 neighbors is -1, then the result image pixel is 0.\n",
    "2. $t = -1$ or $t = 0$, then the result image pixel is 255.\n",
    "\n",
    "## Implementation details:\n",
    "\n",
    "`line 2`: First we initialize the result image to be a 255-filled array, so that we only change the pixel values when the above first condition is satisfied.\n",
    "\n",
    "`line 3,4`: Then we loop though each pixel\n",
    "\n",
    "`line 5`: if the Laplacian output pixel is 1, then we check its 8 neighbors to see if the above first condition is satisfied.\n",
    "\n",
    "`line 6`: a flag `has_negative_neighbor` is initialized to be `False`, it is modified when a negative neighbor is found.\n",
    "\n",
    "`line 7-9`: we loop through the 8 neighbors, as each of the neighbor's index is calculated by adding `di` to the current row, and `dj` to the current column.\n",
    "\n",
    "`line 10-12`: if the resulting index of a neighbor is within the image, and its value is -1\n",
    "\n",
    "`line 13`: then we set `has_negative_neighbor` to be `True`, and break the loop, so we skp rest of the columns in the current row\n",
    "\n",
    "`line 15,16`: we also don't need to check the rest of the rows if a negative neighbor is found.\n",
    "\n",
    "`line 17,18`: finally, set the pixel to be 0 if a negative neighbor is found."
   ]
  },
  {
   "cell_type": "code",
   "execution_count": 62,
   "metadata": {},
   "outputs": [],
   "source": [
    "def Laplacian_output_to_result_image(Laplacian_output):\n",
    "    result_image = np.full(Laplacian_output.shape, 255)\n",
    "    for i in range(Laplacian_output.shape[0]):\n",
    "        for j in range(Laplacian_output.shape[1]):\n",
    "            if Laplacian_output[i,j] == 1:\n",
    "                has_negative_neighbor = False\n",
    "                for di in range(-1, 2):                    \n",
    "                    for dj in range(-1, 2):                \n",
    "                        ni, nj = i+di, j+dj\n",
    "                        if (0 <= ni < Laplacian_output.shape[0] and \n",
    "                            0 <= nj < Laplacian_output.shape[1] and \n",
    "                            Laplacian_output[ni, nj] == -1):\n",
    "                            has_negative_neighbor = True\n",
    "                            break                          \n",
    "                    if has_negative_neighbor:\n",
    "                        break                             \n",
    "                if has_negative_neighbor:\n",
    "                    result_image[i,j] = 0\n",
    "    return result_image\n"
   ]
  },
  {
   "cell_type": "markdown",
   "metadata": {},
   "source": [
    "# (a) Laplace Mask1: 15\n",
    "\n",
    "<img src = \"ppt_info_images/Laplacian_mask1.png\" width = 300/>"
   ]
  },
  {
   "cell_type": "code",
   "execution_count": 63,
   "metadata": {},
   "outputs": [],
   "source": [
    "def Laplace_Mask1(img, threshold):\n",
    "    kernel = np.array([\n",
    "        [0, 1, 0],\n",
    "        [1, -4, 1],\n",
    "        [0, 1, 0]\n",
    "    ])\n",
    "    convolution_result = convolution_whole_image(img, kernel)\n",
    "    Laplacian_output = convolution_result_to_Laplacian_output(convolution_result, threshold)\n",
    "    return Laplacian_output_to_result_image(Laplacian_output)"
   ]
  },
  {
   "cell_type": "code",
   "execution_count": 64,
   "metadata": {},
   "outputs": [
    {
     "data": {
      "text/plain": [
       "True"
      ]
     },
     "execution_count": 64,
     "metadata": {},
     "output_type": "execute_result"
    }
   ],
   "source": [
    "Laplace_Mask1_img = Laplace_Mask1(original_lena, 15)\n",
    "cv2.imwrite('result_images/Laplace_Mask1_15.bmp', Laplace_Mask1_img)\n"
   ]
  },
  {
   "cell_type": "markdown",
   "metadata": {},
   "source": [
    "# (b) Laplace Mask2: 15\n",
    "\n",
    "<img src = \"ppt_info_images/Laplacian_mask2.png\" width = 300/>"
   ]
  },
  {
   "cell_type": "code",
   "execution_count": 65,
   "metadata": {},
   "outputs": [],
   "source": [
    "def Laplace_Mask2(img, threshold):\n",
    "    kernel = np.array([\n",
    "        [1, 1, 1],\n",
    "        [1, -8, 1],\n",
    "        [1, 1, 1]\n",
    "    ]) / 3\n",
    "    convolution_result = convolution_whole_image(img, kernel)\n",
    "    Laplacian_output = convolution_result_to_Laplacian_output(convolution_result, threshold)\n",
    "    return Laplacian_output_to_result_image(Laplacian_output)\n",
    "\n"
   ]
  },
  {
   "cell_type": "code",
   "execution_count": 66,
   "metadata": {},
   "outputs": [
    {
     "data": {
      "text/plain": [
       "True"
      ]
     },
     "execution_count": 66,
     "metadata": {},
     "output_type": "execute_result"
    }
   ],
   "source": [
    "Laplace_Mask2_img = Laplace_Mask2(original_lena, 15)\n",
    "cv2.imwrite('result_images/Laplace_Mask2_15.bmp', Laplace_Mask2_img)"
   ]
  },
  {
   "cell_type": "markdown",
   "metadata": {},
   "source": [
    "# (c) Minimum variance Laplacian: 20\n",
    "\n",
    "<img src = \"ppt_info_images/minimum_var_Laplacian.png\" width = 300/>"
   ]
  },
  {
   "cell_type": "code",
   "execution_count": 67,
   "metadata": {},
   "outputs": [],
   "source": [
    "def Minimum_Variance_Laplacian(img, threshold):\n",
    "    kernel = np.array([\n",
    "            [2., -1, 2],\n",
    "            [-1, -4, -1],\n",
    "            [2, -1, 2]\n",
    "        ]) / 3\n",
    "    convolution_result = convolution_whole_image(img, kernel)\n",
    "    Laplacian_output = convolution_result_to_Laplacian_output(convolution_result, threshold)\n",
    "    return Laplacian_output_to_result_image(Laplacian_output)\n"
   ]
  },
  {
   "cell_type": "code",
   "execution_count": 68,
   "metadata": {},
   "outputs": [
    {
     "data": {
      "text/plain": [
       "True"
      ]
     },
     "execution_count": 68,
     "metadata": {},
     "output_type": "execute_result"
    }
   ],
   "source": [
    "Minimum_Variance_Laplacian_img = Minimum_Variance_Laplacian(original_lena, 20)\n",
    "cv2.imwrite('result_images/Minimum_Variance_Laplacian_20.bmp', Minimum_Variance_Laplacian_img)"
   ]
  },
  {
   "cell_type": "markdown",
   "metadata": {},
   "source": [
    "# (d) Laplace of Gaussian: 3000\n",
    "\n",
    "<img src = \"ppt_info_images/Laplacian_of_Gaussian.png\" width = 300/>"
   ]
  },
  {
   "cell_type": "code",
   "execution_count": 69,
   "metadata": {},
   "outputs": [],
   "source": [
    "def Laplace_of_Gaussian(img, threshold):\n",
    "    kernel = np.array([\n",
    "            [0, 0, 0, -1, -1, -2, -1, -1, 0, 0, 0],\n",
    "            [0, 0, -2, -4, -8, -9, -8, -4, -2, 0, 0],\n",
    "            [0, -2, -7, -15, -22, -23, -22, -15, -7, -2, 0],\n",
    "            [-1, -4, -15, -24, -14, -1, -14, -24, -15, -4, -1],\n",
    "            [-1, -8, -22, -14, 52, 103, 52, -14, -22, -8, -1],\n",
    "            [-2, -9, -23, -1, 103, 178, 103, -1, -23, -9, -2],\n",
    "            [-1, -8, -22, -14, 52, 103, 52, -14, -22, -8, -1],\n",
    "            [-1, -4, -15, -24, -14, -1, -14, -24, -15, -4, -1],\n",
    "            [0, -2, -7, -15, -22, -23, -22, -15, -7, -2, 0],\n",
    "            [0, 0, -2, -4, -8, -9, -8, -4, -2, 0, 0],\n",
    "            [0, 0, 0, -1, -1, -2, -1, -1, 0, 0, 0]\n",
    "        ])\n",
    "    convolution_result = convolution_whole_image(img, kernel)\n",
    "    Laplacian_output = convolution_result_to_Laplacian_output(convolution_result, threshold)\n",
    "    return Laplacian_output_to_result_image(Laplacian_output)"
   ]
  },
  {
   "cell_type": "code",
   "execution_count": 70,
   "metadata": {},
   "outputs": [
    {
     "data": {
      "text/plain": [
       "True"
      ]
     },
     "execution_count": 70,
     "metadata": {},
     "output_type": "execute_result"
    }
   ],
   "source": [
    "Laplace_of_Gaussian_img = Laplace_of_Gaussian(original_lena, 3000)\n",
    "cv2.imwrite('result_images/Laplace_of_Gaussian_3000.bmp', Laplace_of_Gaussian_img)"
   ]
  },
  {
   "cell_type": "markdown",
   "metadata": {},
   "source": [
    "# (e) Difference of Gaussian: 1\n",
    "\n",
    "inhibitory sigma=3, excitatory sigma=1, kernel size 11x11\n",
    "\n",
    "<img src = \"ppt_info_images/difference_of_Gaussian.png\" width = 300/>"
   ]
  },
  {
   "cell_type": "code",
   "execution_count": 71,
   "metadata": {},
   "outputs": [],
   "source": [
    "def difference_of_Gaussian(img, threshold):\n",
    "    kernel = np.array([\n",
    "            [-1, -3, -4, -6, -7, -8, -7, -6, -4, -3, -1],\n",
    "            [-3, -5, -8, -11, -13, -13, -13, -11, -8, -5, -3],\n",
    "            [-4, -8, -12, -16, -17, -17, -17, -16, -12, -8, -4],\n",
    "            [-6, -11, -16, -16, 0, 15, 0, -16, -16, -11, -6],\n",
    "            [-7, -13, -17, 0, 85, 160, 85, 0, -17, -13, -7],\n",
    "            [-8, -13, -17, 15, 160, 283, 160, 15, -17, -13, -8],\n",
    "            [-7, -13, -17, 0, 85, 160, 85, 0, -17, -13, -7],\n",
    "            [-6, -11, -16, -16, 0, 15, 0, -16, -16, -11, -6],\n",
    "            [-4, -8, -12, -16, -17, -17, -17, -16, -12, -8, -4],\n",
    "            [-3, -5, -8, -11, -13, -13, -13, -11, -8, -5, -3],\n",
    "            [-1, -3, -4, -6, -7, -8, -7, -6, -4, -3, -1],\n",
    "        ])\n",
    "    convolution_result = convolution_whole_image(img, kernel)\n",
    "    Laplacian_output = convolution_result_to_Laplacian_output(convolution_result, threshold)\n",
    "    return Laplacian_output_to_result_image(Laplacian_output)"
   ]
  },
  {
   "cell_type": "code",
   "execution_count": 72,
   "metadata": {},
   "outputs": [
    {
     "data": {
      "text/plain": [
       "True"
      ]
     },
     "execution_count": 72,
     "metadata": {},
     "output_type": "execute_result"
    }
   ],
   "source": [
    "difference_of_Gaussian_img = difference_of_Gaussian(original_lena, 1)\n",
    "cv2.imwrite('result_images/Difference_of_Gaussian_1.bmp', difference_of_Gaussian_img)"
   ]
  }
 ],
 "metadata": {
  "kernelspec": {
   "display_name": "Python 3",
   "language": "python",
   "name": "python3"
  },
  "language_info": {
   "codemirror_mode": {
    "name": "ipython",
    "version": 3
   },
   "file_extension": ".py",
   "mimetype": "text/x-python",
   "name": "python",
   "nbconvert_exporter": "python",
   "pygments_lexer": "ipython3",
   "version": "3.9.20"
  }
 },
 "nbformat": 4,
 "nbformat_minor": 2
}
